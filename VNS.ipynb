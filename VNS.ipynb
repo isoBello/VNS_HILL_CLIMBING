{
  "nbformat": 4,
  "nbformat_minor": 0,
  "metadata": {
    "colab": {
      "provenance": []
    },
    "kernelspec": {
      "name": "python3",
      "display_name": "Python 3"
    },
    "language_info": {
      "name": "python"
    }
  },
  "cells": [
    {
      "cell_type": "code",
      "source": [
        "import pandas as pd\n",
        "import numpy as np\n",
        "import matplotlib.pyplot as plt\n",
        "import seaborn as sns\n",
        "import warnings\n",
        "import asyncio\n",
        "import time\n",
        "\n",
        "from collections import defaultdict\n",
        "warnings.filterwarnings(\"ignore\")\n"
      ],
      "metadata": {
        "id": "g_k8vDaejYc6"
      },
      "execution_count": 73,
      "outputs": []
    },
    {
      "cell_type": "code",
      "source": [
        "# Tratamento de dados para o problema\n",
        "\n",
        "df_dados = pd.read_excel(\"./sample_data/dados.xlsx\")\n",
        "\n",
        "quantidade_itens = df_dados['Item'].nunique()\n",
        "quantidade_caixas = df_dados['Caixa Id'].nunique()\n",
        "\n",
        "itens = df_dados['Item'].unique().tolist()\n",
        "caixas = df_dados['Caixa Id'].unique().tolist()\n",
        "\n",
        "pecas_por_caixa = df_dados.groupby('Caixa Id')['Peças'].sum()\n",
        "pecas_por_item = df_dados.groupby('Item')['Peças'].sum()\n",
        "pecas_por_item = pecas_por_item.to_dict()\n",
        "\n",
        "df_dados['Quantidade Total Peças'] = df_dados['Caixa Id'].map(pecas_por_caixa)\n",
        "\n",
        "df_dados = df_dados.groupby('Caixa Id').agg(list)\n",
        "\n",
        "def obter_valores_unicos(valores):\n",
        "  return valores[0] if valores else None\n",
        "\n",
        "df_dados['Quantidade Total Peças'] = df_dados['Quantidade Total Peças'].apply(obter_valores_unicos)\n",
        "\n",
        "df_dados = df_dados.sort_values(by='Quantidade Total Peças', ascending=False)"
      ],
      "metadata": {
        "id": "V1KEonOjWHqf"
      },
      "execution_count": 74,
      "outputs": []
    },
    {
      "cell_type": "code",
      "source": [
        "# Variáveis necessárias\n",
        "np.random.seed(42)\n",
        "capacidade_onda = 2000"
      ],
      "metadata": {
        "id": "DSgcM3NJQLQq"
      },
      "execution_count": 75,
      "outputs": []
    },
    {
      "cell_type": "code",
      "source": [
        "def calcula_ondas_ativas(solucao):\n",
        "  ondas_ativas = []\n",
        "  for id, onda in solucao.items():\n",
        "    caixas_ativas = [i for i, valor in enumerate(onda) if valor == 1]\n",
        "    if len(caixas_ativas) >= 1:\n",
        "      ondas_ativas.append(id)\n",
        "  return ondas_ativas"
      ],
      "metadata": {
        "id": "WbT8NzsIMAlz"
      },
      "execution_count": 76,
      "outputs": []
    },
    {
      "cell_type": "code",
      "source": [
        "# Função Objetivo\n",
        "def calcula_fo(s):\n",
        "  n_caixas = len(s)\n",
        "  itens_distintos = 0\n",
        "\n",
        "  for onda in s:\n",
        "    itens_onda = set()\n",
        "    for id_caixa in range(0, len(onda)):\n",
        "      if onda[id_caixa] == 1:\n",
        "        caixa = caixas[id_caixa]\n",
        "        itens_caixa = df_dados.loc[caixa]['Item']\n",
        "        itens_onda.update(itens_caixa)\n",
        "    itens_distintos += len(itens_onda)\n",
        "  return itens_distintos / quantidade_itens"
      ],
      "metadata": {
        "id": "TmPSq8bFbHkk"
      },
      "execution_count": 77,
      "outputs": []
    },
    {
      "cell_type": "code",
      "source": [
        "def obter_alocacao_onda(onda):\n",
        "  alocacao = [0]\n",
        "  for id_caixa in range(0, quantidade_caixas):\n",
        "    if onda[id_caixa] == 1:\n",
        "      caixa = caixas[id_caixa]\n",
        "      pecas_caixa = df_dados.loc[caixa]['Peças']\n",
        "      alocacao.append(sum(pecas_caixa))\n",
        "  return sum(alocacao)"
      ],
      "metadata": {
        "id": "YKmjyZ2wD4Un"
      },
      "execution_count": 78,
      "outputs": []
    },
    {
      "cell_type": "code",
      "source": [
        "def calcula_alocacao_ondas(solucao):\n",
        "  alocacao = dict()\n",
        "  for id, onda in solucao.items():\n",
        "    valor_alocacao = obter_alocacao_onda(onda)\n",
        "    alocacao[id] = capacidade_onda - valor_alocacao\n",
        "  return alocacao"
      ],
      "metadata": {
        "id": "pZtZzY02sjna"
      },
      "execution_count": 79,
      "outputs": []
    },
    {
      "cell_type": "code",
      "source": [
        "def define_matriz_solucao(solucao):\n",
        "  ondas_ativas = calcula_ondas_ativas(solucao)\n",
        "  z_kj = np.zeros((quantidade_itens, ondas_ativas[-1]+1))\n",
        "\n",
        "  for id in ondas_ativas:\n",
        "    onda = solucao[id]\n",
        "    for id_caixa in range(0, quantidade_caixas):\n",
        "      if onda[id_caixa] == 0:\n",
        "        continue\n",
        "\n",
        "      caixa = caixas[id_caixa]\n",
        "      itens_caixa = df_dados.loc[caixa]['Item']\n",
        "      for id_item in range(0, len(itens_caixa)):\n",
        "        z_kj[id_item][id] = 1\n",
        "  return z_kj"
      ],
      "metadata": {
        "id": "-eDYDl_GM3gw"
      },
      "execution_count": 80,
      "outputs": []
    },
    {
      "cell_type": "code",
      "source": [
        "def swap(caixas_removidas, onda):\n",
        "  for caixa in caixas_removidas:\n",
        "    onda[caixa] = 1\n",
        "  return onda\n",
        "\n",
        "def seleciona_onda(id_i, solucao):\n",
        "  n_ondas = list(solucao.keys())[-1]\n",
        "  id_j = np.random.randint(0, n_ondas)\n",
        "  while id_j == id_i:\n",
        "    id_j = np.random.randint(0, n_ondas)\n",
        "  return id_j\n",
        "\n",
        "def seleciona_caixas(solucao, quantidade, numero_ondas):\n",
        "  tentativas = 0\n",
        "\n",
        "  while True:\n",
        "    if tentativas >= numero_ondas:\n",
        "      break\n",
        "\n",
        "    id = np.random.randint(0, numero_ondas)\n",
        "    onda = solucao[id]\n",
        "    caixas_ativas = [i for i, valor in enumerate(onda) if valor == 1]\n",
        "\n",
        "    if len(caixas_ativas) >= quantidade:\n",
        "      return id, np.random.choice(caixas_ativas, size=quantidade, replace=False)\n",
        "\n",
        "    tentativas += 1\n",
        "\n",
        "  return 0, np.random.choice(caixas, size=quantidade, replace=False)\n",
        "\n",
        "def desaloca_caixas(onda, caixas):\n",
        "  for caixa in caixas:\n",
        "    onda[caixa] = 0\n",
        "  return onda"
      ],
      "metadata": {
        "id": "sAnpYfIFScbB"
      },
      "execution_count": 81,
      "outputs": []
    },
    {
      "cell_type": "code",
      "source": [
        "# Solução Inicial: Construtiva gulosa, seleciona as caixas com mais itens distintos e aloca em uma onda.\n",
        "# Quando a onda estiver sem capacidade para mais itens, ativa nova onda\n",
        "def gera_solucao_inicial():\n",
        "  ondas = dict()\n",
        "  onda = [0] * quantidade_caixas\n",
        "  ondas[0] = onda\n",
        "\n",
        "  capacidade_ondas = dict()\n",
        "  capacidade_ondas[0] = capacidade_onda\n",
        "\n",
        "  for caixa in caixas:\n",
        "    id_caixa = caixas.index(caixa)\n",
        "    pecas_caixa = df_dados.loc[caixa]['Peças']\n",
        "    for id, onda in list(ondas.items()):\n",
        "      demanda_onda = capacidade_ondas[id]\n",
        "\n",
        "      demanda_temporaria = demanda_onda - sum(pecas_caixa)\n",
        "      if demanda_temporaria < 0:\n",
        "        if id == list(ondas.keys())[-1]:\n",
        "          nova_onda = [0] * quantidade_caixas\n",
        "          novo_id = id + 1\n",
        "          nova_onda[novo_id] = 1\n",
        "          ondas[novo_id] = nova_onda\n",
        "          capacidade_ondas[novo_id] = capacidade_onda\n",
        "          break\n",
        "        continue\n",
        "\n",
        "      onda[id_caixa] = 1\n",
        "      ondas[id] = onda\n",
        "      capacidade_ondas[id] = demanda_temporaria\n",
        "      break\n",
        "  return ondas, capacidade_ondas"
      ],
      "metadata": {
        "id": "pPDkQW18IRaN"
      },
      "execution_count": 82,
      "outputs": []
    },
    {
      "cell_type": "code",
      "source": [
        "# Vizinhança\n",
        "def perturbacao_onda(solucao, n_vizinhanca, numero_ondas):\n",
        "  try:\n",
        "    resultado = seleciona_caixas(solucao, n_vizinhanca, numero_ondas)\n",
        "    id, caixas_selecionadas = resultado\n",
        "\n",
        "    onda = solucao[id]\n",
        "    for id_caixa in caixas_selecionadas:\n",
        "      onda[id_caixa] = 0\n",
        "\n",
        "    solucao[id] = onda\n",
        "    return id, solucao, caixas_selecionadas\n",
        "\n",
        "  except:\n",
        "    return 0, solucao, []\n",
        "\n",
        "\n",
        "def define_vizinhos(solucao, n_vizinhanca, numero_ondas, capacidade_ondas):\n",
        "  solucao_vizinha = solucao\n",
        "  capacidade_vizinha = capacidade_ondas\n",
        "  resultado = perturbacao_onda(solucao_vizinha, n_vizinhanca,numero_ondas)\n",
        "\n",
        "  id_selecao, solucao_vizinha, caixas_restantes = resultado\n",
        "  for id_caixa in caixas_restantes:\n",
        "    caixa = caixas[id_caixa]\n",
        "    pecas_caixa = df_dados.loc[caixa]['Peças']\n",
        "\n",
        "    for id, onda in list(solucao_vizinha.items()):\n",
        "      if id == id_selecao:\n",
        "        continue\n",
        "\n",
        "      demanda_onda = capacidade_vizinha[id]\n",
        "      demanda_temporaria = demanda_onda - sum(pecas_caixa)\n",
        "\n",
        "      if demanda_temporaria < 0:\n",
        "        if id == list(solucao_vizinha.keys())[-1]:\n",
        "          nova_onda = [0] * quantidade_caixas\n",
        "          novo_id = id + 1\n",
        "          nova_onda[novo_id] = 1\n",
        "          solucao_vizinha[novo_id] = nova_onda\n",
        "          capacidade_vizinha[novo_id] = capacidade_onda\n",
        "          break\n",
        "        continue\n",
        "\n",
        "      onda[id_caixa] = 1\n",
        "      solucao_vizinha[id] = onda\n",
        "      capacidade_vizinha[id] = demanda_temporaria\n",
        "      break\n",
        "  return solucao_vizinha"
      ],
      "metadata": {
        "id": "ibXuuCzqruRK"
      },
      "execution_count": 83,
      "outputs": []
    },
    {
      "cell_type": "code",
      "source": [
        "async def gera_vizinho(solucao, vizinho):\n",
        "  s = solucao.copy()\n",
        "  try:\n",
        "      solucao = await asyncio.wait_for(obter_opt(solucao, vizinho), timeout=300)\n",
        "  except asyncio.TimeoutError:\n",
        "     return s\n",
        "  return solucao\n",
        "\n",
        "def obter_opt(solucao, vizinho):\n",
        "  numero_ondas = list(solucao.keys())[-1]\n",
        "\n",
        "  resultado = seleciona_caixas(solucao, vizinho, numero_ondas)\n",
        "  id_i, caixas_i = resultado\n",
        "\n",
        "  id_j = id_i\n",
        "  caixas_j = caixas_i\n",
        "\n",
        "  while True:\n",
        "    resultado = seleciona_caixas(solucao, vizinho, numero_ondas)\n",
        "    id_j, caixas_j = resultado\n",
        "\n",
        "    if id_j != id_i:\n",
        "      break\n",
        "\n",
        "  onda_i = solucao[id_i].copy()\n",
        "  onda_j = solucao[id_j].copy()\n",
        "\n",
        "  onda_i = desaloca_caixas(onda_i, caixas_i)\n",
        "  onda_j = desaloca_caixas(onda_j, caixas_j)\n",
        "\n",
        "  onda_i = swap(caixas_j, onda_i)\n",
        "  onda_j = swap(caixas_i, onda_j)\n",
        "\n",
        "  alocacao_j = obter_alocacao_onda(onda_j)\n",
        "  alocacao_i = obter_alocacao_onda(onda_i)\n",
        "\n",
        "  if alocacao_j <= capacidade_onda and alocacao_i <= capacidade_onda:\n",
        "    solucao[id_i] = onda_i\n",
        "    solucao[id_j] = onda_j\n",
        "    return solucao\n",
        "\n",
        "  onda = [0] * quantidade_caixas\n",
        "  id = numero_ondas + 1\n",
        "\n",
        "  for id_caixa in caixas_i:\n",
        "    caixa = caixas[id_caixa]\n",
        "    pecas_caixa = df_dados.loc[caixa]['Peças']\n",
        "    qpecas = sum(pecas_caixa)\n",
        "\n",
        "    if qpecas > capacidade_onda:\n",
        "      print(\"Caixa acima do limite permitido. Ignorando...\")\n",
        "      break\n",
        "\n",
        "    alocacao = obter_alocacao_onda(onda) + qpecas\n",
        "    if alocacao > capacidade_onda:\n",
        "      onda = [0] * quantidade_caixas\n",
        "      id += 1\n",
        "\n",
        "    onda[id_caixa] = 1\n",
        "    solucao[id] = onda\n",
        "  return solucao"
      ],
      "metadata": {
        "id": "j2y6NiGMS61q"
      },
      "execution_count": 84,
      "outputs": []
    },
    {
      "cell_type": "code",
      "source": [
        "# Busca Local\n",
        "def busca_local(solucao_inicial, alocacao_ondas):\n",
        "  solucao = solucao_inicial\n",
        "  alocacao_ondas = calcula_alocacao_ondas(solucao)\n",
        "  z_kj = define_matriz_solucao(solucao)\n",
        "\n",
        "  parar_plato = 0\n",
        "\n",
        "  vizinhos = []\n",
        "  vizinho = 0\n",
        "\n",
        "  fo = []\n",
        "\n",
        "  while True:\n",
        "    if vizinho >= quantidade_caixas:\n",
        "      break\n",
        "\n",
        "    numero_ondas = list(solucao_inicial.keys())[-1]\n",
        "    solucao_vizinha = define_vizinhos(solucao, vizinho, numero_ondas, alocacao_ondas)\n",
        "    vizinhos.append(solucao_vizinha)\n",
        "\n",
        "    vizinho += 1\n",
        "\n",
        "  atual = calcula_fo(z_kj)\n",
        "  melhor = atual\n",
        "  solucao_atual = solucao\n",
        "  fo.append(atual)\n",
        "\n",
        "  for solucao_vizinha in vizinhos:\n",
        "    z_kj_vizinho = define_matriz_solucao(solucao_vizinha)\n",
        "    fo_vizinho = calcula_fo(z_kj)\n",
        "\n",
        "    if fo_vizinho <= melhor:\n",
        "      parar_plato = parar_plato + 1 if fo_vizinho == melhor else 0\n",
        "      melhor = fo_vizinho\n",
        "      solucao = solucao_vizinha\n",
        "      z_kj = z_kj_vizinho\n",
        "\n",
        "    if melhor == atual and np.array_equal(z_kj_vizinho, z_kj) or parar_plato == 20:\n",
        "      if parar_plato == 20: print('plato')\n",
        "      break\n",
        "\n",
        "  return solucao, fo"
      ],
      "metadata": {
        "id": "YagCuX0uxl6e"
      },
      "execution_count": 85,
      "outputs": []
    },
    {
      "cell_type": "code",
      "source": [
        "# VNS\n",
        "async def VNS():\n",
        "  solucao, alocacao_ondas = gera_solucao_inicial()\n",
        "  vizinhancas = (quantidade_caixas // 2)\n",
        "  vizinho = (quantidade_caixas // 4)\n",
        "\n",
        "  fo_solucoes = []\n",
        "\n",
        "  try:\n",
        "    while vizinho <= vizinhancas:\n",
        "      solucao_vizinha = await asyncio.wait_for(gera_vizinho(solucao, vizinho), timeout=300)\n",
        "      alocacao_ondas_vizinha = calcula_alocacao_ondas(solucao_vizinha)\n",
        "\n",
        "      resultado = busca_local(solucao_vizinha, alocacao_ondas_vizinha)\n",
        "\n",
        "      solucao_busca_local, fo  = resultado\n",
        "      fo_solucoes.append(fo)\n",
        "\n",
        "      if len(fo_solucoes) > 1:\n",
        "        id_remover = 0 if min(fo_solucoes[1]) < min(fo_solucoes[0]) else 1\n",
        "        fo_solucoes.pop(id_remover)\n",
        "\n",
        "      z_kj_vizinho = define_matriz_solucao(solucao_vizinha)\n",
        "      z_kj_busca = define_matriz_solucao(solucao_busca_local)\n",
        "\n",
        "      fo_vizinho = calcula_fo(z_kj_vizinho)\n",
        "      fo_busca = calcula_fo(z_kj_busca)\n",
        "\n",
        "      if fo_busca < fo_vizinho:\n",
        "        solucao = solucao_busca_local\n",
        "        alocacao_ondas = calcula_alocacao_ondas(solucao)\n",
        "        vizinho = (quantidade_caixas // 4)\n",
        "      else:\n",
        "        vizinho += (quantidade_caixas // 4)\n",
        "  except asyncio.TimeoutError:\n",
        "    return solucao, fo_solucoes\n",
        "  return solucao, fo_solucoes\n"
      ],
      "metadata": {
        "id": "xLj5ciHX78aT"
      },
      "execution_count": 86,
      "outputs": []
    },
    {
      "cell_type": "code",
      "source": [
        "def imprime_solucao(df_solucao):\n",
        "  df_solucao.drop_duplicates(inplace=True)\n",
        "  grouped_df = df_solucao.groupby('Onda')['Quantidade'].sum().reset_index()\n",
        "  grouped_df = grouped_df.sort_values(by='Quantidade')\n",
        "\n",
        "  cores = plt.cm.get_cmap('viridis', len(grouped_df))\n",
        "\n",
        "  plt.figure(figsize=(10, 6))\n",
        "  bars = plt.bar(grouped_df['Onda'], grouped_df['Quantidade'], color=cores(np.arange(len(grouped_df))))\n",
        "\n",
        "  plt.xlabel('Onda')\n",
        "  plt.ylabel('Quantidades')\n",
        "  plt.title('Métrica de Ondas')\n",
        "  plt.xticks(grouped_df['Onda'])\n",
        "\n",
        "  sm = plt.cm.ScalarMappable(cmap=cores)\n",
        "  sm.set_array([])\n",
        "  cbar = plt.colorbar(sm)\n",
        "  cbar.set_label('Quantidade')\n",
        "\n",
        "  plt.tight_layout()\n",
        "  plt.show()"
      ],
      "metadata": {
        "id": "r2kOPp5oYuT6"
      },
      "execution_count": 87,
      "outputs": []
    },
    {
      "cell_type": "code",
      "source": [
        "def imprime_fo(fo):\n",
        "  t = np.arange(0.0, len(fo), 1)\n",
        "\n",
        "  plt.figure(figsize=(12,8))\n",
        "  plt.plot(t, fo)\n",
        "  plt.show()"
      ],
      "metadata": {
        "id": "iIKDHlxrMvB1"
      },
      "execution_count": 88,
      "outputs": []
    },
    {
      "cell_type": "code",
      "source": [
        "def exportar_solucao(df_solucao):\n",
        "  excel_file = './sample_data/ondas.xlsx'\n",
        "  df_solucao.to_excel(excel_file, index=False)\n",
        "\n",
        "  print(f\"Matriz salva com sucesso em '{excel_file}'.\")"
      ],
      "metadata": {
        "id": "DqQ-ESpXZPkL"
      },
      "execution_count": 89,
      "outputs": []
    },
    {
      "cell_type": "code",
      "source": [
        "async def main():\n",
        "  vns = await VNS()\n",
        "  solucao, fo = vns\n",
        "  z_kj = define_matriz_solucao(solucao)\n",
        "  fo_solucao = calcula_fo(z_kj)\n",
        "  print(f\"FO encontrada: {fo_solucao}\")\n",
        "\n",
        "  df_solucao = pd.DataFrame(columns=['Onda', 'Item', 'Quantidade'])\n",
        "  for id, onda in solucao.items():\n",
        "    for id_caixa in range(0, quantidade_caixas):\n",
        "      if onda[id_caixa] == 0:\n",
        "        continue\n",
        "\n",
        "      caixa = caixas[id_caixa]\n",
        "\n",
        "      itens_caixa = df_dados.loc[caixa]['Item']\n",
        "      pecas_caixa = df_dados.loc[caixa]['Peças']\n",
        "      for item, peca in zip(itens_caixa, pecas_caixa):\n",
        "        row = {'Onda': id, 'Item': item, 'Quantidade': peca}\n",
        "        row = pd.DataFrame([row])\n",
        "        df_solucao = pd.concat([df_solucao, row], ignore_index=True)\n",
        "\n",
        "  # imprime_fo(fo)\n",
        "  imprime_solucao(df_solucao)\n",
        "  exportar_solucao(df_solucao)\n",
        "\n",
        "await main()"
      ],
      "metadata": {
        "colab": {
          "base_uri": "https://localhost:8080/",
          "height": 1000
        },
        "id": "3AnQE0nfSHx2",
        "outputId": "72bea1fb-9fbd-449d-9fdb-ac7c730a0697"
      },
      "execution_count": 90,
      "outputs": [
        {
          "output_type": "stream",
          "name": "stdout",
          "text": [
            "FO encontrada: 0.09351753453772582\n"
          ]
        },
        {
          "output_type": "display_data",
          "data": {
            "text/plain": [
              "<Figure size 1200x800 with 1 Axes>"
            ],
            "image/png": "[encoded data removed]"
          },
          "metadata": {}
        },
        {
          "output_type": "display_data",
          "data": {
            "text/plain": [
              "<Figure size 1000x600 with 2 Axes>"
            ],
            "image/png": "[encoded data removed]"
          },
          "metadata": {}
        },
        {
          "output_type": "stream",
          "name": "stdout",
          "text": [
            "Matriz salva com sucesso em './sample_data/ondas.xlsx'.\n"
          ]
        }
      ]
    }
  ]
}