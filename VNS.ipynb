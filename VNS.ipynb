{
  "nbformat": 4,
  "nbformat_minor": 0,
  "metadata": {
    "colab": {
      "provenance": [],
      "authorship_tag": "ABX9TyMcQRMPkTxDqac4tTlr+mVO",
      "include_colab_link": true
    },
    "kernelspec": {
      "name": "python3",
      "display_name": "Python 3"
    },
    "language_info": {
      "name": "python"
    }
  },
  "cells": [
    {
      "cell_type": "markdown",
      "metadata": {
        "id": "view-in-github",
        "colab_type": "text"
      },
      "source": [
        "<a href=\"https://colab.research.google.com/github/isoBello/VNS_HILL_CLIMBING/blob/main/VNS.ipynb\" target=\"_parent\"><img src=\"https://colab.research.google.com/assets/colab-badge.svg\" alt=\"Open In Colab\"/></a>"
      ]
    },
    {
      "cell_type": "code",
      "source": [
        "import pandas as pd\n",
        "import numpy as np\n",
        "import matplotlib as plotlib"
      ],
      "metadata": {
        "id": "g_k8vDaejYc6"
      },
      "execution_count": 2,
      "outputs": []
    },
    {
      "cell_type": "code",
      "source": [
        "# Tratamento de dados para o problema\n",
        "\n",
        "df_dados = pd.read_excel(\"./sample_data/dados.xlsx\")\n",
        "\n",
        "quantidade_caixas = df_dados['Caixa Id'].nunique()\n",
        "quantidade_itens = df_dados['Item'].nunique()\n",
        "\n",
        "itens = df_dados['Item'].unique().tolist()\n",
        "\n",
        "itens_distintos_por_caixa = df_dados.groupby('Caixa Id')['Item'].nunique()\n",
        "pecas_por_caixa = df_dados.groupby('Caixa Id')['Peças'].sum()\n",
        "\n",
        "df_dados['Itens Distintos'] = df_dados['Caixa Id'].map(itens_distintos_por_caixa)\n",
        "df_dados['Quantidade Total Peças'] = df_dados['Caixa Id'].map(pecas_por_caixa)\n",
        "df_dados['Caixa Atribuida Onda'] = False\n",
        "df_dados['Onda'] = -1\n",
        "df_dados.sort_values(by='Itens Distintos', ascending=False, inplace=True)\n",
        "df_dados = df_dados.groupby('Caixa Id').agg(list)\n",
        "\n",
        "def obter_valores_unicos(valores):\n",
        "  return valores[0] if valores else None\n",
        "\n",
        "df_dados['Itens Distintos'] = df_dados['Itens Distintos'].apply(obter_valores_unicos)\n",
        "df_dados['Quantidade Total Peças'] = df_dados['Quantidade Total Peças'].apply(obter_valores_unicos)\n",
        "\n",
        "#print(df_dados)"
      ],
      "metadata": {
        "id": "V1KEonOjWHqf"
      },
      "execution_count": 47,
      "outputs": []
    },
    {
      "cell_type": "code",
      "source": [
        "# Variáveis necessárias\n",
        "limite_iteracoes_sem_melhora = 10\n",
        "iteracoes_sem_melhora = 0\n",
        "capacidade_onda = 2000\n",
        "id_onda = 0"
      ],
      "metadata": {
        "id": "23QX470ObWur"
      },
      "execution_count": null,
      "outputs": []
    },
    {
      "cell_type": "code",
      "source": [
        "# Solução Inicial: Construtiva gulosa, seleciona as caixas com mais itens distintos e aloca em uma onda.\n",
        "# Quando a onda estiver sem capacidade para mais itens, ativa nova onda\n",
        "def gera_solucao_inicial():\n",
        "  capacidade_atual = 0\n",
        "  caixas_alocadas = 0\n",
        "\n",
        "  while caixas_alocadas < quantidade_caixas:\n",
        "    caixa_esta_alocada = df_dados.iloc[caixas_alocadas]['Caixa Atribuida Onda']\n",
        "    if caixa_esta_alocada:\n",
        "      id_onda += 1\n",
        "      capacidade_atual = 0\n",
        "      caixas_alocadas += 1\n",
        "      continue\n",
        "\n",
        "    quantidade_total_pecas = df_dados.iloc[caixas_alocadas]['Quantidade Total Peças']\n",
        "    capacidade_temporaria = capacidade_atual + quantidade_total_pecas\n",
        "\n",
        "    if quantidade_total_pecas <= capacidade_onda and capacidade_temporaria <= capacidade_onda:\n",
        "      df_dados['Onda'] = id_onda\n",
        "      capacidade_atual += quantidade_total_pecas\n",
        "      caixas_alocadas += 1\n",
        "      df_dados.loc[caixas_alocadas, 'Caixa Atribuida Onda'] = 1\n",
        "\n",
        "    else:\n",
        "      id_onda += 1\n",
        "      capacidade_atual = 0"
      ],
      "metadata": {
        "id": "sIc5wKkUWpjy"
      },
      "execution_count": null,
      "outputs": []
    },
    {
      "cell_type": "code",
      "source": [
        "# Função Objetivo\n",
        "def fo(solucao):\n",
        "  item_pertence_onda = 0\n",
        "  for indice, linha in df_dados.iterrows():\n",
        "\n",
        "\n"
      ],
      "metadata": {
        "id": "TmPSq8bFbHkk"
      },
      "execution_count": 46,
      "outputs": []
    },
    {
      "cell_type": "code",
      "source": [],
      "metadata": {
        "id": "ibXuuCzqruRK"
      },
      "execution_count": null,
      "outputs": []
    }
  ]
}